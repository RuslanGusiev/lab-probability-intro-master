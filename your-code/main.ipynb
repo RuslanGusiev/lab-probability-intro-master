{
 "cells": [
  {
   "cell_type": "markdown",
   "metadata": {},
   "source": [
    "# Introduction To Probability\n",
    "## Challenge 1\n",
    "\n",
    "A and B are events of a probability space with $(\\omega, \\sigma, P)$ such that $P(A) = 0.3$, $P(B) = 0.6$ and $P(A \\cap B) = 0.1$\n",
    "\n",
    "Which of the following statements are false?\n",
    "* $P(A \\cup B) = 0.6$\n",
    "* $P(A \\cap B^{C}) = 0.2$\n",
    "* $P(A \\cap (B \\cup B^{C})) = 0.4$\n",
    "* $P(A^{C} \\cap B^{C}) = 0.3$\n",
    "* $P((A \\cap B)^{C}) = 0.9$"
   ]
  },
  {
   "cell_type": "code",
   "execution_count": 1,
   "metadata": {},
   "outputs": [
    {
     "name": "stdout",
     "output_type": "stream",
     "text": [
      "Hello!\n"
     ]
    }
   ],
   "source": [
    "print('Hello!')\n",
    "print('Yeey, it works!')"
   ]
  },
  {
   "cell_type": "code",
   "execution_count": null,
   "metadata": {},
   "outputs": [],
   "source": [
    "\"\"\"\n",
    "'''\n",
    "L.S. Correct!\n",
    "'''\n",
    "\n",
    "𝑃(𝐴∩𝐵)=0.1 it means A and B depended events (𝑃(𝐴∩𝐵) != P(A)*P(B))\n",
    "\n",
    "1. 𝑃(𝐴∪𝐵)=0.6 False:𝑃(𝐴∪𝐵) = P(A)+P(B)-𝑃(𝐴∩𝐵) = 0.3+0.6-0.1=0.8\n",
    "2.  𝑃(𝐴∩𝐵𝐶)=0.2 True: P(A) - P(B) = 0.3-0.1 = 0.2\n",
    "3. 𝑃(𝐴∩(𝐵∪𝐵𝐶))=0.4 False: 𝑃(𝐴∩(𝐵∪𝐵𝐶))= P(A) = 0.3\n",
    "4. 𝑃(𝐴𝐶∩𝐵𝐶)=0.3 False: 𝑃(𝐴𝐶∩𝐵𝐶) = 1 - (P(A)+P(B)-𝑃(𝐴∩𝐵)) = 0.2\n",
    "5. 𝑃((𝐴∩𝐵)𝐶)=0.9 True\n",
    "\"\"\""
   ]
  },
  {
   "cell_type": "markdown",
   "metadata": {},
   "source": [
    "## Challenge 2\n",
    "There is a box with 10 white balls, 12 red balls and 8 black balls. Calculate the probability of:\n",
    "* Taking a white ball out.\n",
    "* Taking a white ball out after taking a black ball out.\n",
    "* Taking a red ball out after taking a black and a red ball out.\n",
    "* Taking a red ball out after taking a black and a red ball out with reposition.\n",
    "\n",
    "**Hint**: Reposition means putting back the ball into the box after taking it out."
   ]
  },
  {
   "cell_type": "code",
   "execution_count": 3,
   "metadata": {},
   "outputs": [
    {
     "name": "stdout",
     "output_type": "stream",
     "text": [
      "0.09195402298850575\n",
      "0.04334975369458128\n",
      "0.03911111111111111\n"
     ]
    }
   ],
   "source": [
    "\"\"\"\n",
    "1. 1/3\n",
    "\"\"\"\n",
    "'''\n",
    "L.S. Not entirely correct. Please explain what you did. \n",
    "'''\n",
    "\n",
    "#2\n",
    "print((8*10)/(30*29))\n",
    "#3\n",
    "print((8*12*11)/(30*28*29)) # right solution 11/28*(12/29*8/30 + 8/29*12/30)\n",
    "#4\n",
    "print((8*12*11)/(30*30*30)) # 12/30*(12/30*8/30 + 12/30*8/30)"
   ]
  },
  {
   "cell_type": "markdown",
   "metadata": {},
   "source": [
    "## Challenge 3\n",
    "\n",
    "You are planning to go on a picnic today but the morning is cloudy. You hate rain so you don't know whether to go out or stay home! To help you make a decision, you gather the following data about rainy days:\n",
    "\n",
    "* 50% of all rainy days start off cloudy!\n",
    "* Cloudy mornings are common. About 40% of days start cloudy. \n",
    "* This month is usually dry so only 3 of 30 days (10%) tend to be rainy. \n",
    "\n",
    "What is the chance of rain during the day?"
   ]
  },
  {
   "cell_type": "code",
   "execution_count": null,
   "metadata": {},
   "outputs": [],
   "source": [
    "\"\"\"\n",
    "'''\n",
    "L.S. No, you should have used Bayes Theorem here. \n",
    "'''\n",
    "\n",
    "Probability of cloudy morning day = 40% and probability of ruyn after cloudy mornig = 50%. So Probability of rain after cloudy morning is 20% of 30 days\n",
    "At the sae time probability of rainy day is 10% because of dry month.\n",
    "P(A) = 0.2\n",
    "P(B) = 0.1\n",
    "This events are independed.\n",
    "𝑃(𝐴∪𝐵) = P(A) + P(B) - P(𝐴∩𝐵) = 0.1 + 0.2 - 0.02= 0.28\n",
    "So chance for rainy weather is 28% \n",
    "\"\"\"\n",
    "\n",
    "#12.5%"
   ]
  },
  {
   "cell_type": "markdown",
   "metadata": {},
   "source": [
    "## Challenge 4\n",
    "\n",
    "One thousand people were asked through a telephone survey whether they thought more street lighting is needed at night or not.\n",
    "\n",
    "Out of the 480 men that answered the survey, 324 said yes and 156 said no. On the other hand, out of the 520 women that answered, 351 said yes and 169 said no. \n",
    "\n",
    "We wonder if men and women have a different opinions about the street lighting matter. Is gender relevant or irrelevant to the question?\n",
    "\n",
    "Consider the following events:\n",
    "- The answer is yes, so the person that answered thinks that more street lighting is needed.\n",
    "- The person who answered is a man.\n",
    "\n",
    "We want to know if these events are independent, that is, if the fact of wanting more light depends on whether one is male or female. Are these events independent or not?\n",
    "\n",
    "**Hint**: To clearly compare the answers by gender, it is best to place the data in a table."
   ]
  },
  {
   "cell_type": "code",
   "execution_count": null,
   "metadata": {},
   "outputs": [],
   "source": [
    "# your code here\n",
    "\n",
    "'''\n",
    "L.S. Incomplete. Please finish. \n",
    "'''\n"
   ]
  },
  {
   "cell_type": "code",
   "execution_count": 4,
   "metadata": {},
   "outputs": [
    {
     "name": "stdout",
     "output_type": "stream",
     "text": [
      "p_yes_man =  0.675\n",
      "p_yes =  0.675\n",
      "\n",
      "\n",
      "p_man_yes =  0.48\n",
      "p_man =  0.48\n",
      "\n",
      "\n",
      "p_yes_intersection_p_man =  0.324\n",
      "p_yes*p_man =    0.324\n"
     ]
    }
   ],
   "source": [
    "\"\"\"\n",
    "P(YES|man) = 324/480\n",
    "p(no|man) = 156/480\n",
    "P(yes}woman) = 351/520\n",
    "P(no|woman) = 169/520\n",
    "P(yes) = (324+351)/1000\n",
    "P(man) = 480/1000\n",
    "independent when P(yes|man) == P(yes) and P(man|yes)  =P(man)\n",
    "or when P(yes^man) == P(yes)*P(man)\n",
    "\"\"\"\n",
    "print('p_yes_man = ', 324/480)\n",
    "print('p_yes = ', 675/1000)\n",
    "print('\\n')\n",
    "print('p_man_yes = ', 324/(324+351))\n",
    "print('p_man = ', 480/1000)\n",
    "print('\\n')\n",
    "print('p_yes_intersection_p_man = ', 324/1000)\n",
    "print('p_yes*p_man =   ',  (675/1000*480/1000))\n",
    "# the events are independent"
   ]
  },
  {
   "cell_type": "code",
   "execution_count": null,
   "metadata": {},
   "outputs": [],
   "source": []
  }
 ],
 "metadata": {
  "kernelspec": {
   "display_name": "Python 3",
   "language": "python",
   "name": "python3"
  },
  "language_info": {
   "codemirror_mode": {
    "name": "ipython",
    "version": 3
   },
   "file_extension": ".py",
   "mimetype": "text/x-python",
   "name": "python",
   "nbconvert_exporter": "python",
   "pygments_lexer": "ipython3",
   "version": "3.6.7"
  }
 },
 "nbformat": 4,
 "nbformat_minor": 2
}
